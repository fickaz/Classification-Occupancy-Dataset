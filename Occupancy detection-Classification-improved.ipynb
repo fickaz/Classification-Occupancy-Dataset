{
 "cells": [
  {
   "cell_type": "markdown",
   "metadata": {},
   "source": [
    "# OCCUPANCY DETECTION\n",
    "\n",
    "This dataset was retrieved from UCI Machine Learning Repository. It is a binary classification (occupied, unoccupied) to determine whether a room is occupied or not based on five features-temperature, humidity, light, CO2, and humidity ratio.\n",
    "\n",
    "This notebook aims to demonstrate my ability to use logistic regression and support vector machine, as well as cross-validation and validation curves on SVM's parameters. So far, processing time for cross-validation on 4-core CPU takes a long time, therefore I restrict my scoring method to precision.\n",
    "\n",
    "Recall that precision measures the ratio between true positives against all positives (both true and false), while recall measures the ratio between true positives against true positives and false negatives."
   ]
  },
  {
   "cell_type": "code",
   "execution_count": 1,
   "metadata": {
    "collapsed": true
   },
   "outputs": [],
   "source": [
    "import pandas as pd\n",
    "import numpy as np\n",
    "import matplotlib.pyplot as plt\n",
    "\n",
    "% matplotlib inline"
   ]
  },
  {
   "cell_type": "code",
   "execution_count": 2,
   "metadata": {
    "collapsed": true
   },
   "outputs": [],
   "source": [
    "#Training\n",
    "df = pd.read_csv(\"datatraining.txt\")\n",
    "df.dropna(how = 'all', inplace = True)\n",
    "\n",
    "X_train = np.array(df.drop([\"date\",\"Occupancy\"],1))\n",
    "y_train = np.array(df[\"Occupancy\"]).ravel()"
   ]
  },
  {
   "cell_type": "code",
   "execution_count": 3,
   "metadata": {
    "collapsed": true
   },
   "outputs": [],
   "source": [
    "#Testing\n",
    "df_test = pd.read_csv(\"datatest.txt\") #a separate file for training\n",
    "df_test.dropna(how = 'all', inplace = True)\n",
    "\n",
    "X_test = np.array(df_test.drop([\"date\",\"Occupancy\"],1))\n",
    "y_test = np.array(df_test[\"Occupancy\"]).ravel()"
   ]
  },
  {
   "cell_type": "code",
   "execution_count": 4,
   "metadata": {
    "collapsed": true
   },
   "outputs": [],
   "source": [
    "#Cross-Validation\n",
    "df_cv = pd.read_csv(\"datatest2.txt\") #a separate file for training\n",
    "df_cv.dropna(how = 'all', inplace = True)\n",
    "\n",
    "X_cv = np.array(df_cv.drop([\"date\",\"Occupancy\"],1))\n",
    "y_cv = np.array(df_cv[\"Occupancy\"]).ravel()"
   ]
  },
  {
   "cell_type": "code",
   "execution_count": 5,
   "metadata": {
    "collapsed": false
   },
   "outputs": [
    {
     "name": "stdout",
     "output_type": "stream",
     "text": [
      "                  date  Temperature  Humidity  Light     CO2  HumidityRatio  \\\n",
      "1  2015-02-04 17:51:00        23.18   27.2720  426.0  721.25       0.004793   \n",
      "2  2015-02-04 17:51:59        23.15   27.2675  429.5  714.00       0.004783   \n",
      "3  2015-02-04 17:53:00        23.15   27.2450  426.0  713.50       0.004779   \n",
      "4  2015-02-04 17:54:00        23.15   27.2000  426.0  708.25       0.004772   \n",
      "5  2015-02-04 17:55:00        23.10   27.2000  426.0  704.50       0.004757   \n",
      "\n",
      "   Occupancy  \n",
      "1          1  \n",
      "2          1  \n",
      "3          1  \n",
      "4          1  \n",
      "5          1  \n"
     ]
    }
   ],
   "source": [
    "print(df.head())"
   ]
  },
  {
   "cell_type": "code",
   "execution_count": 6,
   "metadata": {
    "collapsed": false
   },
   "outputs": [],
   "source": [
    "from sklearn.preprocessing import StandardScaler\n",
    "\n",
    "scaler = StandardScaler()\n",
    "scaler.fit(X_train)\n",
    "#X_scaled = scaler.transform(X)\n",
    "X_train_scaled = scaler.transform(X_train)\n",
    "X_test_scaled = scaler.transform(X_test)\n",
    "X_cv_scaled = scaler.transform(X_cv)"
   ]
  },
  {
   "cell_type": "code",
   "execution_count": 14,
   "metadata": {
    "collapsed": false
   },
   "outputs": [
    {
     "name": "stdout",
     "output_type": "stream",
     "text": [
      "0.976360225141\n",
      "2602 / 2665 correct\n"
     ]
    }
   ],
   "source": [
    "#LOGISTIC REGRESSION\n",
    "\n",
    "from sklearn.linear_model import LogisticRegression\n",
    "\n",
    "clf = LogisticRegression(penalty='l2', dual=False, fit_intercept=True, solver='newton-cg')\n",
    "clf.fit(X_train,y_train)\n",
    "y_predict = clf.predict(X_test)\n",
    "\n",
    "print(clf.score(X_test, y_test))\n",
    "print(\"{0} / {1} correct\".format(np.sum(y_test == y_predict), len(y_test)))"
   ]
  },
  {
   "cell_type": "code",
   "execution_count": 15,
   "metadata": {
    "collapsed": false
   },
   "outputs": [
    {
     "data": {
      "text/plain": [
       "0.97636022514071297"
      ]
     },
     "execution_count": 15,
     "metadata": {},
     "output_type": "execute_result"
    }
   ],
   "source": [
    "from sklearn.metrics import accuracy_score\n",
    "accuracy_score(y_test, y_predict)"
   ]
  },
  {
   "cell_type": "code",
   "execution_count": 17,
   "metadata": {
    "collapsed": false
   },
   "outputs": [
    {
     "name": "stdout",
     "output_type": "stream",
     "text": [
      "0.978236397749\n",
      "2607 / 2665 correct\n"
     ]
    }
   ],
   "source": [
    "clf2 = LogisticRegression(penalty='l2', dual=False, fit_intercept=True, solver='liblinear')\n",
    "clf2.fit(X_train,y_train)\n",
    "y_predict = clf2.predict(X_test)\n",
    "\n",
    "print(clf2.score(X_test, y_test))\n",
    "print(\"{0} / {1} correct\".format(np.sum(y_test == y_predict), len(y_test)))"
   ]
  },
  {
   "cell_type": "code",
   "execution_count": 21,
   "metadata": {
    "collapsed": false
   },
   "outputs": [
    {
     "name": "stdout",
     "output_type": "stream",
     "text": [
      "[ 0.99692623  0.98360656  0.9795082   0.99794872  0.99487179  0.98153846\n",
      "  1.          0.98871795  0.99282051  1.        ]\n",
      "Mean:  0.99159384195\n",
      "std:  0.00735959551661\n"
     ]
    }
   ],
   "source": [
    "from sklearn import cross_validation\n",
    "\n",
    "scores = cross_validation.cross_val_score(clf2, X_cv, y_cv, cv=10)\n",
    "print(scores)\n",
    "print(\"Mean: \", scores.mean())\n",
    "print(\"std: \", scores.std())"
   ]
  },
  {
   "cell_type": "code",
   "execution_count": 23,
   "metadata": {
    "collapsed": false
   },
   "outputs": [
    {
     "name": "stdout",
     "output_type": "stream",
     "text": [
      "accuracy: 0.978236397749\n",
      "precision: 0.9462890625\n",
      "recall: 0.996913580247\n",
      "f1 score: 0.970941883768\n"
     ]
    }
   ],
   "source": [
    "from sklearn import metrics\n",
    "\n",
    "print(\"accuracy:\", metrics.accuracy_score(y_test, y_predict))\n",
    "print(\"precision:\", metrics.precision_score(y_test, y_predict))\n",
    "print(\"recall:\", metrics.recall_score(y_test, y_predict))\n",
    "print(\"f1 score:\", metrics.f1_score(y_test, y_predict))"
   ]
  },
  {
   "cell_type": "code",
   "execution_count": 24,
   "metadata": {
    "collapsed": false
   },
   "outputs": [
    {
     "name": "stdout",
     "output_type": "stream",
     "text": [
      "             precision    recall  f1-score   support\n",
      "\n",
      " background       1.00      0.97      0.98      1693\n",
      " foreground       0.95      1.00      0.97       972\n",
      "\n",
      "avg / total       0.98      0.98      0.98      2665\n",
      "\n"
     ]
    }
   ],
   "source": [
    "print(metrics.classification_report(y_test, y_predict, target_names=['background', 'foreground']))"
   ]
  },
  {
   "cell_type": "code",
   "execution_count": 27,
   "metadata": {
    "collapsed": false
   },
   "outputs": [
    {
     "name": "stdout",
     "output_type": "stream",
     "text": [
      "0.978236397749\n",
      "2607 / 2665 correct\n"
     ]
    },
    {
     "name": "stderr",
     "output_type": "stream",
     "text": [
      "C:\\Users\\taufik.azri\\AppData\\Local\\Continuum\\Anaconda3\\lib\\site-packages\\sklearn\\linear_model\\sag.py:267: ConvergenceWarning: The max_iter was reached which means the coef_ did not converge\n",
      "  \"the coef_ did not converge\", ConvergenceWarning)\n"
     ]
    }
   ],
   "source": [
    "#Quick comparison with other solver besides liblinear and newton-cg\n",
    "\n",
    "clf3 = LogisticRegression(fit_intercept=True, solver='sag')\n",
    "clf3.fit(X_train,y_train)\n",
    "y_predict = clf3.predict(X_test)\n",
    "\n",
    "print(clf3.score(X_test, y_test))\n",
    "print(\"{0} / {1} correct\".format(np.sum(y_test == y_predict), len(y_test)))"
   ]
  },
  {
   "cell_type": "code",
   "execution_count": 7,
   "metadata": {
    "collapsed": false
   },
   "outputs": [
    {
     "name": "stdout",
     "output_type": "stream",
     "text": [
      "0.910318949343\n",
      "2426 / 2665 correct\n"
     ]
    }
   ],
   "source": [
    "#SUPPORT VECTOR CLASSIFICATION\n",
    "#SVC, NuSVC, and LinearSVC\n",
    "\n",
    "from sklearn import svm\n",
    "from sklearn import cross_validation\n",
    "from sklearn.metrics import accuracy_score\n",
    "\n",
    "svmachine = svm.SVC(C=1.0, kernel='rbf', gamma='auto', random_state=32)\n",
    "svmachine.fit(X_train, y_train)\n",
    "y_predict= svmachine.predict(X_test)\n",
    "\n",
    "print(svmachine.score(X_test, y_test))\n",
    "print(\"{0} / {1} correct\".format(np.sum(y_test == y_predict), len(y_test)))"
   ]
  },
  {
   "cell_type": "code",
   "execution_count": 8,
   "metadata": {
    "collapsed": false
   },
   "outputs": [
    {
     "name": "stdout",
     "output_type": "stream",
     "text": [
      "[ 0.81967213  0.80942623  0.81352459  0.80717949  0.80923077  0.86871795\n",
      "  0.9025641   0.82871795  0.81025641  0.79979466]\n",
      "Mean:  0.826908427868\n"
     ]
    }
   ],
   "source": [
    "scores = cross_validation.cross_val_score(svmachine, X_cv, y_cv, cv=10)\n",
    "print(scores)\n",
    "print(\"Mean: \", scores.mean())"
   ]
  },
  {
   "cell_type": "code",
   "execution_count": 10,
   "metadata": {
    "collapsed": false
   },
   "outputs": [
    {
     "name": "stdout",
     "output_type": "stream",
     "text": [
      "# Tuning hyper-parameters for precision\n",
      "\n",
      "Best parameters set found on development set:\n",
      "\n",
      "{'C': 10, 'kernel': 'linear'}\n",
      "\n",
      "Best scores of the best parameters found:\n",
      "0.993052865399\n",
      "\n",
      "Grid scores on development set:\n",
      "\n",
      "0.914 (+/-0.107) for {'C': 1, 'kernel': 'rbf', 'gamma': 0.001}\n",
      "0.987 (+/-0.022) for {'C': 1, 'kernel': 'rbf', 'gamma': 0.0001}\n",
      "0.939 (+/-0.078) for {'C': 10, 'kernel': 'rbf', 'gamma': 0.001}\n",
      "0.979 (+/-0.033) for {'C': 10, 'kernel': 'rbf', 'gamma': 0.0001}\n",
      "0.925 (+/-0.076) for {'C': 100, 'kernel': 'rbf', 'gamma': 0.001}\n",
      "0.946 (+/-0.101) for {'C': 100, 'kernel': 'rbf', 'gamma': 0.0001}\n",
      "0.923 (+/-0.078) for {'C': 1000, 'kernel': 'rbf', 'gamma': 0.001}\n",
      "0.925 (+/-0.129) for {'C': 1000, 'kernel': 'rbf', 'gamma': 0.0001}\n",
      "0.990 (+/-0.011) for {'C': 1, 'kernel': 'linear'}\n",
      "0.993 (+/-0.005) for {'C': 10, 'kernel': 'linear'}\n",
      "0.988 (+/-0.015) for {'C': 100, 'kernel': 'linear'}\n",
      "0.988 (+/-0.013) for {'C': 1000, 'kernel': 'linear'}\n",
      "\n",
      "Detailed classification report:\n",
      "\n",
      "The model is trained on the full development set.\n",
      "The scores are computed on the full evaluation set.\n",
      "\n",
      "             precision    recall  f1-score   support\n",
      "\n",
      "          0       1.00      0.97      0.98      1693\n",
      "          1       0.95      1.00      0.97       972\n",
      "\n",
      "avg / total       0.98      0.98      0.98      2665\n",
      "\n",
      "\n",
      "GridSearchCV took 2376.39 seconds for 12 candidate parameter settings.\n",
      "# Tuning hyper-parameters for recall\n",
      "\n",
      "Best parameters set found on development set:\n",
      "\n",
      "{'C': 10, 'kernel': 'linear'}\n",
      "\n",
      "Best scores of the best parameters found:\n",
      "0.992924528302\n",
      "\n",
      "Grid scores on development set:\n",
      "\n",
      "0.886 (+/-0.178) for {'C': 1, 'kernel': 'rbf', 'gamma': 0.001}\n",
      "0.987 (+/-0.025) for {'C': 1, 'kernel': 'rbf', 'gamma': 0.0001}\n",
      "0.906 (+/-0.197) for {'C': 10, 'kernel': 'rbf', 'gamma': 0.001}\n",
      "0.978 (+/-0.038) for {'C': 10, 'kernel': 'rbf', 'gamma': 0.0001}\n",
      "0.886 (+/-0.206) for {'C': 100, 'kernel': 'rbf', 'gamma': 0.001}\n",
      "0.945 (+/-0.096) for {'C': 100, 'kernel': 'rbf', 'gamma': 0.0001}\n",
      "0.882 (+/-0.209) for {'C': 1000, 'kernel': 'rbf', 'gamma': 0.001}\n",
      "0.929 (+/-0.118) for {'C': 1000, 'kernel': 'rbf', 'gamma': 0.0001}\n",
      "0.990 (+/-0.013) for {'C': 1, 'kernel': 'linear'}\n",
      "0.993 (+/-0.005) for {'C': 10, 'kernel': 'linear'}\n",
      "0.987 (+/-0.016) for {'C': 100, 'kernel': 'linear'}\n",
      "0.988 (+/-0.015) for {'C': 1000, 'kernel': 'linear'}\n",
      "\n",
      "Detailed classification report:\n",
      "\n",
      "The model is trained on the full development set.\n",
      "The scores are computed on the full evaluation set.\n",
      "\n",
      "             precision    recall  f1-score   support\n",
      "\n",
      "          0       1.00      0.97      0.98      1693\n",
      "          1       0.95      1.00      0.97       972\n",
      "\n",
      "avg / total       0.98      0.98      0.98      2665\n",
      "\n",
      "\n",
      "GridSearchCV took 2213.29 seconds for 12 candidate parameter settings.\n"
     ]
    }
   ],
   "source": [
    "#reference: page 840\n",
    "\n",
    "#Parameter estimation using grid search using cross-validation\n",
    "\n",
    "from sklearn.grid_search import GridSearchCV\n",
    "from sklearn.metrics import classification_report\n",
    "from time import time\n",
    "\n",
    "tuned_params = [{'kernel': ['rbf'], 'gamma': [1e-3, 1e-4], 'C': [1, 10, 100, 1000]},\n",
    "                    {'kernel': ['linear'], 'C': [1, 10, 100, 1000]}]\n",
    "\n",
    "scores = ['precision', 'recall']\n",
    "\n",
    "for score in scores:\n",
    "    print(\"# Tuning hyper-parameters for %s\" % score)\n",
    "    print()\n",
    "    start = time()\n",
    "    grid_search = GridSearchCV(svm.SVC(), tuned_params, cv=5, scoring='%s_weighted' % score)\n",
    "    grid_search.fit(X_cv, y_cv)\n",
    "    print(\"Best parameters set found on development set:\")\n",
    "    print()\n",
    "    print(grid_search.best_params_)\n",
    "    print()\n",
    "    print(\"Best scores of the best parameters found:\")\n",
    "    print(grid_search.best_score_)\n",
    "    print()\n",
    "    print(\"Grid scores on development set:\")\n",
    "    print()\n",
    "    \n",
    "    for params, mean_score, scores in grid_search.grid_scores_:\n",
    "        print(\"%0.3f (+/-%0.03f) for %r\" % (mean_score, scores.std() * 2, params))\n",
    "   \n",
    "    print()\n",
    "    print(\"Detailed classification report:\")\n",
    "    print()\n",
    "    print(\"The model is trained on the full development set.\")\n",
    "    print(\"The scores are computed on the full evaluation set.\")\n",
    "    print()\n",
    "    y_predict = grid_search.predict(X_test)\n",
    "    print(classification_report(y_test, y_predict))\n",
    "    print()\n",
    "    print(\"GridSearchCV took %.2f seconds for %d candidate parameter settings.\" \n",
    "          % (time() - start, len(grid_search.grid_scores_)))\n",
    "    #report(grid_search.grid_scores_)"
   ]
  },
  {
   "cell_type": "code",
   "execution_count": 8,
   "metadata": {
    "collapsed": false
   },
   "outputs": [
    {
     "data": {
      "text/plain": [
       "<matplotlib.legend.Legend at 0x16d0fc16dd8>"
      ]
     },
     "execution_count": 8,
     "metadata": {},
     "output_type": "execute_result"
    },
    {
     "data": {
      "image/png": "[encoded data removed]",
      "text/plain": [
       "<matplotlib.figure.Figure at 0x16d0600e2b0>"
      ]
     },
     "metadata": {},
     "output_type": "display_data"
    }
   ],
   "source": [
    "#PLOT VALIDATION CURVES\n",
    "\n",
    "from sklearn.learning_curve import validation_curve\n",
    "from sklearn import svm\n",
    "\n",
    "%matplotlib inline\n",
    "\n",
    "param_range = np.logspace(-10, 2, 10)\n",
    "clf = svm.SVC(kernel='rbf')\n",
    "train_scores, test_scores = validation_curve(clf, X_test, y_test, \n",
    "                                             param_name=\"gamma\", \n",
    "                                             param_range=param_range, \n",
    "                                             cv=10, \n",
    "                                             scoring=\"accuracy\", \n",
    "                                             n_jobs=1)\n",
    "\n",
    "train_scores_mean = np.mean(train_scores, axis=1)\n",
    "train_scores_std = np.std(train_scores, axis=1)\n",
    "test_scores_mean = np.mean(test_scores, axis=1)\n",
    "test_scores_std = np.std(test_scores, axis=1)\n",
    "\n",
    "plt.title(\"Validation Curve with SVM\")\n",
    "plt.xlabel(\"$\\gamma$\")\n",
    "plt.ylabel(\"Score\")\n",
    "plt.ylim(0.0, 1.1)\n",
    "\n",
    "plt.semilogx(param_range, train_scores_mean, label=\"Training score\", color=\"r\")\n",
    "plt.fill_between(param_range, train_scores_mean - train_scores_std, train_scores_mean + train_scores_std, alpha=0.2, color=\"r\")\n",
    "plt.semilogx(param_range, test_scores_mean, label=\"Cross-validation score\", color=\"g\")\n",
    "plt.fill_between(param_range, test_scores_mean - test_scores_std, test_scores_mean + test_scores_std, alpha=0.2, color=\"g\")\n",
    "\n",
    "plt.legend(loc=\"best\")\n"
   ]
  },
  {
   "cell_type": "code",
   "execution_count": null,
   "metadata": {
    "collapsed": true
   },
   "outputs": [],
   "source": [
    "#try this one for randomized search cv\n",
    "\n",
    "#reference: page 840\n",
    "\n",
    "#Parameter estimation using grid search using cross-validation\n",
    "\n",
    "from sklearn.grid_search import RandomizedSearchCV\n",
    "\n",
    "param_dist = [{'C': scipy.stats.expon(scale=100), 'gamma': scipy.stats.expon(scale=.1), \n",
    "               'kernel': ['rbf'], 'class_weight':['auto', None]}]\n",
    "\n",
    "\n",
    "scores = ['precision', 'recall']\n",
    "\n",
    "for score in scores:\n",
    "    print(\"# Tuning hyper-parameters for %s\" % score)\n",
    "    print()\n",
    "    start = time()\n",
    "    clf = svm.SVC()\n",
    "    random_search = RandomizedSearchCV(clf, param_distributions=param_dist, n_iter=10)\n",
    "    random_search.fit(X_cv, y_cv)\n",
    "    print(\"Best parameters set found on development set:\")\n",
    "    print()\n",
    "    print(random_search.best_params_)\n",
    "    print()\n",
    "    print(\"Best scores of the best parameters found:\")\n",
    "    print(random_search.best_scores_)\n",
    "    print()\n",
    "    print(\"Grid scores on development set:\")\n",
    "    print()\n",
    "    \n",
    "    for params, mean_score, scores in random_search.grid_scores_:\n",
    "        print(\"%0.3f (+/-%0.03f) for %r\" % (mean_score, scores.std() * 2, params))\n",
    "   \n",
    "    print()\n",
    "    print(\"Detailed classification report:\")\n",
    "    print()\n",
    "    print(\"The model is trained on the full development set.\")\n",
    "    print(\"The scores are computed on the full evaluation set.\")\n",
    "    print()\n",
    "    y_predict = random_search.predict(X_test)\n",
    "    print(classification_report(y_test, y_predict))\n",
    "    print()\n",
    "    print(\"GridSearchCV took %.2f seconds for %d candidate parameter settings.\" \n",
    "          % (time() - start, len(random_search.grid_scores_)))\n",
    "    #report(grid_search.grid_scores_)\n",
    "    \n",
    "#RUNNING TIME EXCESSIVELY LONG."
   ]
  }
 ],
 "metadata": {
  "anaconda-cloud": {},
  "kernelspec": {
   "display_name": "Python [conda root]",
   "language": "python",
   "name": "conda-root-py"
  },
  "language_info": {
   "codemirror_mode": {
    "name": "ipython",
    "version": 3
   },
   "file_extension": ".py",
   "mimetype": "text/x-python",
   "name": "python",
   "nbconvert_exporter": "python",
   "pygments_lexer": "ipython3",
   "version": "3.5.2"
  }
 },
 "nbformat": 4,
 "nbformat_minor": 1
}
